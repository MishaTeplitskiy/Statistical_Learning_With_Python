{
 "metadata": {
  "name": "",
  "signature": "sha256:6cb82d3bd23627f843d520cbd67b75cc4a902633b7bc755611565ee14d6b20b0"
 },
 "nbformat": 3,
 "nbformat_minor": 0,
 "worksheets": [
  {
   "cells": [
    {
     "cell_type": "markdown",
     "metadata": {},
     "source": [
      "#Classification: Building a Language Detector\n",
      "\n",
      "\n",
      "- inspired by http://bugra.github.io/work/notes/2014-12-26/language-detector-via-scikit-learn/"
     ]
    },
    {
     "cell_type": "markdown",
     "metadata": {},
     "source": [
      "#Overfitting\n",
      "\n",
      "### = Big difference between social science stats and machine learning\n",
      "\n",
      "<img src=http://pingax.com/wp-content/uploads/2014/05/underfitting-overfitting.png>\n",
      "\n",
      "###Solution: Split data into training part and testing part\n",
      "\n",
      "- \"testing\" set also called \"validation set,\" \"held-out set\"\n",
      "\n",
      "###Result: 2 sets of accuracies, 2 sets of errors\n",
      "- One for training set <--- no one cares about\n",
      "- One for test set <--- everyone cares about, also called \"generalization error\"\n",
      "\n",
      "<img src=https://raw.githubusercontent.com/tijptjik/DS_assets/master/overfitting.png>"
     ]
    },
    {
     "cell_type": "code",
     "collapsed": false,
     "input": [
      "%matplotlib inline"
     ],
     "language": "python",
     "metadata": {},
     "outputs": [],
     "prompt_number": 4
    },
    {
     "cell_type": "code",
     "collapsed": false,
     "input": [
      "import matplotlib.pyplot as plt\n",
      "import pandas as pd\n",
      "import numpy as np"
     ],
     "language": "python",
     "metadata": {},
     "outputs": [],
     "prompt_number": 5
    },
    {
     "cell_type": "markdown",
     "metadata": {},
     "source": [
      "##Data Description"
     ]
    },
    {
     "cell_type": "markdown",
     "metadata": {},
     "source": [
      "European Parliament Proceedings corpus\n",
      "- https://language-detection.googlecode.com/git-history/packages/packages/europarl-test.zip\n",
      "- 21 languages, 1000 sentences each \n"
     ]
    },
    {
     "cell_type": "markdown",
     "metadata": {},
     "source": [
      "##Import data and put it in pandas dataframe"
     ]
    },
    {
     "cell_type": "code",
     "collapsed": false,
     "input": [
      "import codecs\n",
      "lines = codecs.open('europarl.txt', 'r', 'utf-8').readlines()\n",
      "lines = [l.split('\\t') for l in lines]"
     ],
     "language": "python",
     "metadata": {},
     "outputs": [],
     "prompt_number": 7
    },
    {
     "cell_type": "code",
     "collapsed": false,
     "input": [
      "df = pd.DataFrame(lines, columns=['language', 'text'])\n",
      "df.head()"
     ],
     "language": "python",
     "metadata": {},
     "outputs": [
      {
       "html": [
        "<div style=\"max-height:1000px;max-width:1500px;overflow:auto;\">\n",
        "<table border=\"1\" class=\"dataframe\">\n",
        "  <thead>\n",
        "    <tr style=\"text-align: right;\">\n",
        "      <th></th>\n",
        "      <th>language</th>\n",
        "      <th>text</th>\n",
        "    </tr>\n",
        "  </thead>\n",
        "  <tbody>\n",
        "    <tr>\n",
        "      <th>0</th>\n",
        "      <td> bg</td>\n",
        "      <td> \"\u0415\u0432\u0440\u043e\u043f\u0430 2020\" \u043d\u0435 \u0442\u0440\u044f\u0431\u0432\u0430 \u0434\u0430 \u0441\u0442\u0430\u0440\u0442\u0438\u0440\u0430 \u043d\u043e\u0432 \u043a\u043e\u043d\u043a\u0443\u0440...</td>\n",
        "    </tr>\n",
        "    <tr>\n",
        "      <th>1</th>\n",
        "      <td> bg</td>\n",
        "      <td> (CS) \u041d\u0430\u0439-\u0433\u043e\u043b\u044f\u043c\u0430\u0442\u0430 \u043d\u0435\u0441\u043f\u0440\u0430\u0432\u0435\u0434\u043b\u0438\u0432\u043e\u0441\u0442 \u043d\u0430 \u0441\u0435\u0433\u0430\u0448\u043d\u0430\u0442\u0430...</td>\n",
        "    </tr>\n",
        "    <tr>\n",
        "      <th>2</th>\n",
        "      <td> bg</td>\n",
        "      <td> (DE) \u0413-\u0436\u043e \u043f\u0440\u0435\u0434\u0441\u0435\u0434\u0430\u0442\u0435\u043b, \u0433-\u043d \u0447\u043b\u0435\u043d \u043d\u0430 \u041a\u043e\u043c\u0438\u0441\u0438\u044f\u0442\u0430, ...</td>\n",
        "    </tr>\n",
        "    <tr>\n",
        "      <th>3</th>\n",
        "      <td> bg</td>\n",
        "      <td> (DE) \u0413-\u043d \u043f\u0440\u0435\u0434\u0441\u0435\u0434\u0430\u0442\u0435\u043b, \u0431\u0438\u0445 \u0438\u0441\u043a\u0430\u043b \u0434\u0430 \u0437\u0430\u043f\u043e\u0447\u043d\u0430 \u0441 \u043a...</td>\n",
        "    </tr>\n",
        "    <tr>\n",
        "      <th>4</th>\n",
        "      <td> bg</td>\n",
        "      <td> (DE) \u0413-\u043d \u043f\u0440\u0435\u0434\u0441\u0435\u0434\u0430\u0442\u0435\u043b, \u0432\u044a\u043f\u0440\u043e\u0441\u044a\u0442 \u0437\u0430 \u043f\u0440\u0430\u0432\u0430\u0442\u0430 \u043d\u0430 \u0447...</td>\n",
        "    </tr>\n",
        "  </tbody>\n",
        "</table>\n",
        "</div>"
       ],
       "metadata": {},
       "output_type": "pyout",
       "prompt_number": 9,
       "text": [
        "  language                                               text\n",
        "0       bg  \"\u0415\u0432\u0440\u043e\u043f\u0430 2020\" \u043d\u0435 \u0442\u0440\u044f\u0431\u0432\u0430 \u0434\u0430 \u0441\u0442\u0430\u0440\u0442\u0438\u0440\u0430 \u043d\u043e\u0432 \u043a\u043e\u043d\u043a\u0443\u0440...\n",
        "1       bg  (CS) \u041d\u0430\u0439-\u0433\u043e\u043b\u044f\u043c\u0430\u0442\u0430 \u043d\u0435\u0441\u043f\u0440\u0430\u0432\u0435\u0434\u043b\u0438\u0432\u043e\u0441\u0442 \u043d\u0430 \u0441\u0435\u0433\u0430\u0448\u043d\u0430\u0442\u0430...\n",
        "2       bg  (DE) \u0413-\u0436\u043e \u043f\u0440\u0435\u0434\u0441\u0435\u0434\u0430\u0442\u0435\u043b, \u0433-\u043d \u0447\u043b\u0435\u043d \u043d\u0430 \u041a\u043e\u043c\u0438\u0441\u0438\u044f\u0442\u0430, ...\n",
        "3       bg  (DE) \u0413-\u043d \u043f\u0440\u0435\u0434\u0441\u0435\u0434\u0430\u0442\u0435\u043b, \u0431\u0438\u0445 \u0438\u0441\u043a\u0430\u043b \u0434\u0430 \u0437\u0430\u043f\u043e\u0447\u043d\u0430 \u0441 \u043a...\n",
        "4       bg  (DE) \u0413-\u043d \u043f\u0440\u0435\u0434\u0441\u0435\u0434\u0430\u0442\u0435\u043b, \u0432\u044a\u043f\u0440\u043e\u0441\u044a\u0442 \u0437\u0430 \u043f\u0440\u0430\u0432\u0430\u0442\u0430 \u043d\u0430 \u0447..."
       ]
      }
     ],
     "prompt_number": 9
    },
    {
     "cell_type": "code",
     "collapsed": false,
     "input": [
      "# how many of each language\n",
      "df.language.value_counts()"
     ],
     "language": "python",
     "metadata": {},
     "outputs": [
      {
       "metadata": {},
       "output_type": "pyout",
       "prompt_number": 10,
       "text": [
        "hu    1000\n",
        "nl    1000\n",
        "fi    1000\n",
        "ro    1000\n",
        "de    1000\n",
        "da    1000\n",
        "pt    1000\n",
        "pl    1000\n",
        "it    1000\n",
        "bg    1000\n",
        "sv    1000\n",
        "cs    1000\n",
        "sk    1000\n",
        "sl    1000\n",
        "lv    1000\n",
        "lt    1000\n",
        "el    1000\n",
        "en    1000\n",
        "et    1000\n",
        "es    1000\n",
        "fr    1000\n",
        "dtype: int64"
       ]
      }
     ],
     "prompt_number": 10
    },
    {
     "cell_type": "code",
     "collapsed": false,
     "input": [
      "# let's consider just two: english (en) and french (fr)\n",
      "df[df.language=='en'].head()"
     ],
     "language": "python",
     "metadata": {},
     "outputs": [
      {
       "html": [
        "<div style=\"max-height:1000px;max-width:1500px;overflow:auto;\">\n",
        "<table border=\"1\" class=\"dataframe\">\n",
        "  <thead>\n",
        "    <tr style=\"text-align: right;\">\n",
        "      <th></th>\n",
        "      <th>language</th>\n",
        "      <th>text</th>\n",
        "    </tr>\n",
        "  </thead>\n",
        "  <tbody>\n",
        "    <tr>\n",
        "      <th>5000</th>\n",
        "      <td> en</td>\n",
        "      <td>                   (BG) Thank you, Mr President.\\n</td>\n",
        "    </tr>\n",
        "    <tr>\n",
        "      <th>5001</th>\n",
        "      <td> en</td>\n",
        "      <td> (EL) Madam President, I agree and recognise Tu...</td>\n",
        "    </tr>\n",
        "    <tr>\n",
        "      <th>5002</th>\n",
        "      <td> en</td>\n",
        "      <td> (FI) Madam President, firstly, I would like to...</td>\n",
        "    </tr>\n",
        "    <tr>\n",
        "      <th>5003</th>\n",
        "      <td> en</td>\n",
        "      <td> (FI) Mr President, the Treaty of Lisbon will r...</td>\n",
        "    </tr>\n",
        "    <tr>\n",
        "      <th>5004</th>\n",
        "      <td> en</td>\n",
        "      <td> (FR) Madam President, one of the priorities of...</td>\n",
        "    </tr>\n",
        "  </tbody>\n",
        "</table>\n",
        "</div>"
       ],
       "metadata": {},
       "output_type": "pyout",
       "prompt_number": 11,
       "text": [
        "     language                                               text\n",
        "5000       en                    (BG) Thank you, Mr President.\\n\n",
        "5001       en  (EL) Madam President, I agree and recognise Tu...\n",
        "5002       en  (FI) Madam President, firstly, I would like to...\n",
        "5003       en  (FI) Mr President, the Treaty of Lisbon will r...\n",
        "5004       en  (FR) Madam President, one of the priorities of..."
       ]
      }
     ],
     "prompt_number": 11
    },
    {
     "cell_type": "code",
     "collapsed": false,
     "input": [
      "df_sub = df[df.language.isin(('lt', 'lv'))]"
     ],
     "language": "python",
     "metadata": {},
     "outputs": [],
     "prompt_number": 12
    },
    {
     "cell_type": "markdown",
     "metadata": {},
     "source": [
      "##Build classifier"
     ]
    },
    {
     "cell_type": "code",
     "collapsed": false,
     "input": [
      "from sklearn.feature_extraction.text import TfidfVectorizer, CountVectorizer\n",
      "from sklearn.linear_model import LogisticRegression\n",
      "from sklearn.cross_validation import train_test_split"
     ],
     "language": "python",
     "metadata": {},
     "outputs": [],
     "prompt_number": 14
    },
    {
     "cell_type": "markdown",
     "metadata": {},
     "source": [
      "###1. Engineer features we will use to predict"
     ]
    },
    {
     "cell_type": "code",
     "collapsed": false,
     "input": [
      "# vectorizer = TfidfVectorizer(ngram_range=(1,3),\n",
      "# #                              analyzer='char',\n",
      "#                              max_features=50)\n",
      "# #                             use_idf=False)\n",
      "\n",
      "vectorizer = CountVectorizer(max_features=50,\n",
      "                             analyzer='char',\n",
      "                                )\n",
      "\n",
      "\n",
      "X_features = vectorizer.fit_transform(df_sub.text)  # fit_transform() is like calling fit() and then predict()\n",
      "print X_features.shape, type(X_features)"
     ],
     "language": "python",
     "metadata": {},
     "outputs": [
      {
       "output_type": "stream",
       "stream": "stdout",
       "text": [
        "(2000, 50) <class 'scipy.sparse.csr.csr_matrix'>\n"
       ]
      }
     ],
     "prompt_number": 15
    },
    {
     "cell_type": "markdown",
     "metadata": {},
     "source": [
      "###2. Split into train and test sets"
     ]
    },
    {
     "cell_type": "code",
     "collapsed": false,
     "input": [
      "y = df_sub.language.values\n",
      "X_train, X_test, y_train, y_test = train_test_split(X_features, y, test_size=0.2)  \n",
      "#setting random_state=0 to make #sure we all get the same answer"
     ],
     "language": "python",
     "metadata": {},
     "outputs": [
      {
       "output_type": "stream",
       "stream": "stdout",
       "text": [
        "\n"
       ]
      }
     ],
     "prompt_number": 17
    },
    {
     "cell_type": "code",
     "collapsed": false,
     "input": [
      "#composition of train and test sets\n",
      "print 'Composition of train set:', np.unique(y_train, return_counts=True)\n",
      "print 'Composition of test set:', np.unique(y_test, return_counts=True)"
     ],
     "language": "python",
     "metadata": {},
     "outputs": [
      {
       "output_type": "stream",
       "stream": "stdout",
       "text": [
        "Composition of train set: (array([u'lt', u'lv'], dtype=object), array([812, 788]))\n",
        "Composition of test set: (array([u'lt', u'lv'], dtype=object), array([188, 212]))\n"
       ]
      }
     ],
     "prompt_number": 18
    },
    {
     "cell_type": "markdown",
     "metadata": {},
     "source": [
      "###3. Train model"
     ]
    },
    {
     "cell_type": "code",
     "collapsed": false,
     "input": [
      "clf = LogisticRegression()\n",
      "clf.fit(X_train, y_train)"
     ],
     "language": "python",
     "metadata": {},
     "outputs": [
      {
       "metadata": {},
       "output_type": "pyout",
       "prompt_number": 19,
       "text": [
        "LogisticRegression(C=1.0, class_weight=None, dual=False, fit_intercept=True,\n",
        "          intercept_scaling=1, penalty='l2', random_state=None, tol=0.0001)"
       ]
      }
     ],
     "prompt_number": 19
    },
    {
     "cell_type": "markdown",
     "metadata": {},
     "source": [
      "###4. Evaluate model\n",
      "\n",
      "*Test it on the held-out test set*\n",
      "\n",
      "* **accuracy**: percent correct\n",
      "\n",
      "\n",
      "* When especially interested in a particular class, say \"positive,\"\n",
      "    - **precision**: of the things you called \"positive,\" what percent were correct?\n",
      "    - **recall**: of all positive cases, what percent did you find?"
     ]
    },
    {
     "cell_type": "code",
     "collapsed": false,
     "input": [
      "y_predicted = clf.predict(X_test)"
     ],
     "language": "python",
     "metadata": {},
     "outputs": [],
     "prompt_number": 20
    },
    {
     "cell_type": "code",
     "collapsed": false,
     "input": [
      "from sklearn import metrics\n",
      "print 'Accuracy:', metrics.accuracy_score(y_test, y_predicted)\n",
      "print\n",
      "print metrics.classification_report(y_test, y_predicted)\n",
      "print\n",
      "print 'confusion matrix'\n",
      "print\n",
      "print pd.DataFrame(metrics.confusion_matrix(y_test, y_predicted))"
     ],
     "language": "python",
     "metadata": {},
     "outputs": [
      {
       "output_type": "stream",
       "stream": "stdout",
       "text": [
        "Accuracy: 0.955\n",
        "\n",
        "             precision    recall  f1-score   support\n",
        "\n",
        "         lt       0.91      1.00      0.95       188\n",
        "         lv       1.00      0.92      0.96       212\n",
        "\n",
        "avg / total       0.96      0.95      0.96       400\n",
        "\n",
        "\n",
        "confusion matrix\n",
        "\n",
        "     0    1\n",
        "0  188    0\n",
        "1   18  194\n"
       ]
      }
     ],
     "prompt_number": 21
    },
    {
     "cell_type": "markdown",
     "metadata": {},
     "source": [
      "###Out of curiousity, how well did we do on the training set?"
     ]
    },
    {
     "cell_type": "code",
     "collapsed": false,
     "input": [
      "print 'Accuracy:', metrics.accuracy_score(y_train, clf.predict(X_train))"
     ],
     "language": "python",
     "metadata": {},
     "outputs": [
      {
       "output_type": "stream",
       "stream": "stdout",
       "text": [
        "Accuracy: 0.9575\n"
       ]
      }
     ],
     "prompt_number": 22
    },
    {
     "cell_type": "markdown",
     "metadata": {},
     "source": [
      "##ROC curve\n",
      "\n",
      "x-axis: What percent of negative things did you falsely call positive?\n",
      "\n",
      "y-axis: Of the positive examples, what percent did you find?"
     ]
    },
    {
     "cell_type": "code",
     "collapsed": false,
     "input": [
      "from sklearn.metrics import roc_curve, roc_auc_score\n",
      "\n",
      "y_label_test = np.asarray(y_test == 'lv', dtype=int)\n",
      "proba = clf.predict_proba(X_test)\n",
      "proba_label = proba[:,1]\n",
      "fpr, tpr, roc_thresholds = roc_curve(y_label_test, proba_label)\n",
      "\n",
      "plt.plot(fpr, tpr, '-', linewidth=5)\n",
      "plt.plot([0, 1], [0, 1], 'k--')\n",
      "plt.xlabel('False Positive Rate (\"Cost\")')\n",
      "plt.ylabel('True Positive Rate (\"Benefit\")')\n",
      "plt.title('Receiver operating characteristic example')\n",
      "plt.legend(loc=\"lower right\")   \n",
      "    "
     ],
     "language": "python",
     "metadata": {},
     "outputs": [
      {
       "output_type": "stream",
       "stream": "stderr",
       "text": [
        "C:\\WinPython27\\python-2.7.5\\lib\\site-packages\\matplotlib\\axes.py:4752: UserWarning: No labeled objects found. Use label='...' kwarg on individual plots.\n",
        "  warnings.warn(\"No labeled objects found. \"\n"
       ]
      },
      {
       "metadata": {},
       "output_type": "display_data",
       "png": "[encoded data removed]",
       "text": [
        "<matplotlib.figure.Figure at 0x786f9f0>"
       ]
      }
     ],
     "prompt_number": 24
    },
    {
     "cell_type": "markdown",
     "metadata": {},
     "source": [
      "#Examine the coefficients"
     ]
    },
    {
     "cell_type": "code",
     "collapsed": false,
     "input": [
      "pd.DataFrame(zip(vectorizer.get_feature_names(), np.exp(clf.coef_[0]))).sort(1)"
     ],
     "language": "python",
     "metadata": {},
     "outputs": [
      {
       "html": [
        "<div style=\"max-height:1000px;max-width:1500px;overflow:auto;\">\n",
        "<table border=\"1\" class=\"dataframe\">\n",
        "  <thead>\n",
        "    <tr style=\"text-align: right;\">\n",
        "      <th></th>\n",
        "      <th>0</th>\n",
        "      <th>1</th>\n",
        "    </tr>\n",
        "  </thead>\n",
        "  <tbody>\n",
        "    <tr>\n",
        "      <th>47</th>\n",
        "      <td>        yra</td>\n",
        "      <td>  0.132292</td>\n",
        "    </tr>\n",
        "    <tr>\n",
        "      <th>36</th>\n",
        "      <td>         su</td>\n",
        "      <td>  0.137260</td>\n",
        "    </tr>\n",
        "    <tr>\n",
        "      <th>37</th>\n",
        "      <td>        tai</td>\n",
        "      <td>  0.145047</td>\n",
        "    </tr>\n",
        "    <tr>\n",
        "      <th>10</th>\n",
        "      <td>    europos</td>\n",
        "      <td>  0.166072</td>\n",
        "    </tr>\n",
        "    <tr>\n",
        "      <th>7 </th>\n",
        "      <td>        d\u0117l</td>\n",
        "      <td>  0.174451</td>\n",
        "    </tr>\n",
        "    <tr>\n",
        "      <th>16</th>\n",
        "      <td>        kad</td>\n",
        "      <td>  0.214095</td>\n",
        "    </tr>\n",
        "    <tr>\n",
        "      <th>24</th>\n",
        "      <td>        mes</td>\n",
        "      <td>  0.219679</td>\n",
        "    </tr>\n",
        "    <tr>\n",
        "      <th>12</th>\n",
        "      <td>         i\u0161</td>\n",
        "      <td>  0.230045</td>\n",
        "    </tr>\n",
        "    <tr>\n",
        "      <th>5 </th>\n",
        "      <td>       b\u016bti</td>\n",
        "      <td>  0.236922</td>\n",
        "    </tr>\n",
        "    <tr>\n",
        "      <th>17</th>\n",
        "      <td>       kaip</td>\n",
        "      <td>  0.237122</td>\n",
        "    </tr>\n",
        "    <tr>\n",
        "      <th>34</th>\n",
        "      <td> pirmininke</td>\n",
        "      <td>  0.240614</td>\n",
        "    </tr>\n",
        "    <tr>\n",
        "      <th>38</th>\n",
        "      <td>       taip</td>\n",
        "      <td>  0.241801</td>\n",
        "    </tr>\n",
        "    <tr>\n",
        "      <th>4 </th>\n",
        "      <td>       buvo</td>\n",
        "      <td>  0.248400</td>\n",
        "    </tr>\n",
        "    <tr>\n",
        "      <th>35</th>\n",
        "      <td>       savo</td>\n",
        "      <td>  0.299503</td>\n",
        "    </tr>\n",
        "    <tr>\n",
        "      <th>0 </th>\n",
        "      <td>       apie</td>\n",
        "      <td>  0.334180</td>\n",
        "    </tr>\n",
        "    <tr>\n",
        "      <th>42</th>\n",
        "      <td>       turi</td>\n",
        "      <td>  0.341146</td>\n",
        "    </tr>\n",
        "    <tr>\n",
        "      <th>28</th>\n",
        "      <td>       m\u016bs\u0173</td>\n",
        "      <td>  0.389030</td>\n",
        "    </tr>\n",
        "    <tr>\n",
        "      <th>6 </th>\n",
        "      <td>       b\u016bt\u0173</td>\n",
        "      <td>  0.394295</td>\n",
        "    </tr>\n",
        "    <tr>\n",
        "      <th>40</th>\n",
        "      <td>        tik</td>\n",
        "      <td>  0.459583</td>\n",
        "    </tr>\n",
        "    <tr>\n",
        "      <th>20</th>\n",
        "      <td>   komisija</td>\n",
        "      <td>  0.531496</td>\n",
        "    </tr>\n",
        "    <tr>\n",
        "      <th>33</th>\n",
        "      <td>        pat</td>\n",
        "      <td>  0.739714</td>\n",
        "    </tr>\n",
        "    <tr>\n",
        "      <th>3 </th>\n",
        "      <td>        bet</td>\n",
        "      <td>  0.855985</td>\n",
        "    </tr>\n",
        "    <tr>\n",
        "      <th>11</th>\n",
        "      <td>         ir</td>\n",
        "      <td>  0.984499</td>\n",
        "    </tr>\n",
        "    <tr>\n",
        "      <th>30</th>\n",
        "      <td>         ne</td>\n",
        "      <td>  1.088736</td>\n",
        "    </tr>\n",
        "    <tr>\n",
        "      <th>41</th>\n",
        "      <td>         to</td>\n",
        "      <td>  1.269904</td>\n",
        "    </tr>\n",
        "    <tr>\n",
        "      <th>14</th>\n",
        "      <td>         jo</td>\n",
        "      <td>  1.299818</td>\n",
        "    </tr>\n",
        "    <tr>\n",
        "      <th>1 </th>\n",
        "      <td>         ar</td>\n",
        "      <td>  1.669845</td>\n",
        "    </tr>\n",
        "    <tr>\n",
        "      <th>18</th>\n",
        "      <td>        kas</td>\n",
        "      <td>  1.879318</td>\n",
        "    </tr>\n",
        "    <tr>\n",
        "      <th>25</th>\n",
        "      <td>       mums</td>\n",
        "      <td>  2.019102</td>\n",
        "    </tr>\n",
        "    <tr>\n",
        "      <th>19</th>\n",
        "      <td>         ko</td>\n",
        "      <td>  2.301956</td>\n",
        "    </tr>\n",
        "    <tr>\n",
        "      <th>13</th>\n",
        "      <td>         ja</td>\n",
        "      <td>  2.590359</td>\n",
        "    </tr>\n",
        "    <tr>\n",
        "      <th>9 </th>\n",
        "      <td>         es</td>\n",
        "      <td>  3.274294</td>\n",
        "    </tr>\n",
        "    <tr>\n",
        "      <th>29</th>\n",
        "      <td>        nav</td>\n",
        "      <td>  3.316575</td>\n",
        "    </tr>\n",
        "    <tr>\n",
        "      <th>27</th>\n",
        "      <td>       m\u016bsu</td>\n",
        "      <td>  3.328093</td>\n",
        "    </tr>\n",
        "    <tr>\n",
        "      <th>23</th>\n",
        "      <td>        lai</td>\n",
        "      <td>  3.810891</td>\n",
        "    </tr>\n",
        "    <tr>\n",
        "      <th>39</th>\n",
        "      <td>        tas</td>\n",
        "      <td>  3.846516</td>\n",
        "    </tr>\n",
        "    <tr>\n",
        "      <th>48</th>\n",
        "      <td>       \u013coti</td>\n",
        "      <td>  3.864085</td>\n",
        "    </tr>\n",
        "    <tr>\n",
        "      <th>46</th>\n",
        "      <td>        vai</td>\n",
        "      <td>  4.200415</td>\n",
        "    </tr>\n",
        "    <tr>\n",
        "      <th>2 </th>\n",
        "      <td>        ar\u012b</td>\n",
        "      <td>  4.425187</td>\n",
        "    </tr>\n",
        "    <tr>\n",
        "      <th>49</th>\n",
        "      <td>         \u0161o</td>\n",
        "      <td>  4.436995</td>\n",
        "    </tr>\n",
        "    <tr>\n",
        "      <th>43</th>\n",
        "      <td>         t\u0101</td>\n",
        "      <td>  5.567311</td>\n",
        "    </tr>\n",
        "    <tr>\n",
        "      <th>22</th>\n",
        "      <td>         k\u0101</td>\n",
        "      <td>  5.645506</td>\n",
        "    </tr>\n",
        "    <tr>\n",
        "      <th>31</th>\n",
        "      <td>         no</td>\n",
        "      <td>  6.474617</td>\n",
        "    </tr>\n",
        "    <tr>\n",
        "      <th>21</th>\n",
        "      <td>      kungs</td>\n",
        "      <td>  6.480887</td>\n",
        "    </tr>\n",
        "    <tr>\n",
        "      <th>45</th>\n",
        "      <td>         uz</td>\n",
        "      <td>  7.243644</td>\n",
        "    </tr>\n",
        "    <tr>\n",
        "      <th>8 </th>\n",
        "      <td>    eiropas</td>\n",
        "      <td>  9.303418</td>\n",
        "    </tr>\n",
        "    <tr>\n",
        "      <th>26</th>\n",
        "      <td>        m\u0113s</td>\n",
        "      <td>  9.333379</td>\n",
        "    </tr>\n",
        "    <tr>\n",
        "      <th>15</th>\n",
        "      <td>         ka</td>\n",
        "      <td> 11.846539</td>\n",
        "    </tr>\n",
        "    <tr>\n",
        "      <th>32</th>\n",
        "      <td>        par</td>\n",
        "      <td> 16.106159</td>\n",
        "    </tr>\n",
        "    <tr>\n",
        "      <th>44</th>\n",
        "      <td>         un</td>\n",
        "      <td> 20.055701</td>\n",
        "    </tr>\n",
        "  </tbody>\n",
        "</table>\n",
        "</div>"
       ],
       "metadata": {},
       "output_type": "pyout",
       "prompt_number": 26,
       "text": [
        "             0          1\n",
        "47         yra   0.132292\n",
        "36          su   0.137260\n",
        "37         tai   0.145047\n",
        "10     europos   0.166072\n",
        "7          d\u0117l   0.174451\n",
        "16         kad   0.214095\n",
        "24         mes   0.219679\n",
        "12          i\u0161   0.230045\n",
        "5         b\u016bti   0.236922\n",
        "17        kaip   0.237122\n",
        "34  pirmininke   0.240614\n",
        "38        taip   0.241801\n",
        "4         buvo   0.248400\n",
        "35        savo   0.299503\n",
        "0         apie   0.334180\n",
        "42        turi   0.341146\n",
        "28        m\u016bs\u0173   0.389030\n",
        "6         b\u016bt\u0173   0.394295\n",
        "40         tik   0.459583\n",
        "20    komisija   0.531496\n",
        "33         pat   0.739714\n",
        "3          bet   0.855985\n",
        "11          ir   0.984499\n",
        "30          ne   1.088736\n",
        "41          to   1.269904\n",
        "14          jo   1.299818\n",
        "1           ar   1.669845\n",
        "18         kas   1.879318\n",
        "25        mums   2.019102\n",
        "19          ko   2.301956\n",
        "13          ja   2.590359\n",
        "9           es   3.274294\n",
        "29         nav   3.316575\n",
        "27        m\u016bsu   3.328093\n",
        "23         lai   3.810891\n",
        "39         tas   3.846516\n",
        "48        \u013coti   3.864085\n",
        "46         vai   4.200415\n",
        "2          ar\u012b   4.425187\n",
        "49          \u0161o   4.436995\n",
        "43          t\u0101   5.567311\n",
        "22          k\u0101   5.645506\n",
        "31          no   6.474617\n",
        "21       kungs   6.480887\n",
        "45          uz   7.243644\n",
        "8      eiropas   9.303418\n",
        "26         m\u0113s   9.333379\n",
        "15          ka  11.846539\n",
        "32         par  16.106159\n",
        "44          un  20.055701"
       ]
      }
     ],
     "prompt_number": 26
    },
    {
     "cell_type": "markdown",
     "metadata": {},
     "source": [
      "#Exercise\n",
      "\n",
      "##Create a classifier for *all* 21 languages\n",
      "i.e. Given a sentence, output its most probable language\n",
      "\n",
      "**hint**: Create 21 classifiers which classify *langauge x* vs. *all other languages* and choose langauge with highest probability"
     ]
    }
   ],
   "metadata": {}
  }
 ]
}