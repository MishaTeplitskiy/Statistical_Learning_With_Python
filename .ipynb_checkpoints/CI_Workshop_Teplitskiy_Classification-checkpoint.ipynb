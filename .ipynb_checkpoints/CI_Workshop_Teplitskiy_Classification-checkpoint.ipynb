{
 "metadata": {
  "name": "",
  "signature": "sha256:d6be654ef859fa944e136e9eef15a9fbaa12a3cc17e21bc27f214c37bb7d7bcf"
 },
 "nbformat": 3,
 "nbformat_minor": 0,
 "worksheets": [
  {
   "cells": [
    {
     "cell_type": "markdown",
     "metadata": {},
     "source": [
      "#Building a Language Detector\n",
      "\n",
      "\n",
      "- inspired by http://bugra.github.io/work/notes/2014-12-26/language-detector-via-scikit-learn/"
     ]
    },
    {
     "cell_type": "markdown",
     "metadata": {},
     "source": [
      "#Overfitting\n",
      "\n",
      "### = Big difference between social science stats and machine learning\n",
      "\n",
      "<img src=http://pingax.com/wp-content/uploads/2014/05/underfitting-overfitting.png>\n",
      "\n",
      "###Solution: Split data into training part and testing part\n",
      "\n",
      "- \"testing\" set also called \"validation set,\" \"held-out set\"\n",
      "\n",
      "###Result: 2 sets of accuracies, 2 sets of errors\n",
      "- One for training set <--- no one cares about\n",
      "- One for test set <--- everyone cares about, also called \"generalization error\"\n",
      "\n",
      "<img src=https://raw.githubusercontent.com/tijptjik/DS_assets/master/overfitting.png>"
     ]
    },
    {
     "cell_type": "code",
     "collapsed": false,
     "input": [
      "%matplotlib inline"
     ],
     "language": "python",
     "metadata": {},
     "outputs": [],
     "prompt_number": 2
    },
    {
     "cell_type": "code",
     "collapsed": false,
     "input": [
      "import matplotlib.pyplot as plt\n",
      "import pandas as pd\n",
      "import numpy as np"
     ],
     "language": "python",
     "metadata": {},
     "outputs": [],
     "prompt_number": 3
    },
    {
     "cell_type": "markdown",
     "metadata": {},
     "source": [
      "### Example: Language of Tweets"
     ]
    },
    {
     "cell_type": "code",
     "collapsed": false,
     "input": [
      "from IPython.display import Image\n",
      "Image(url='http://i.imgur.com/Kr5sfJ8.png')"
     ],
     "language": "python",
     "metadata": {},
     "outputs": [
      {
       "html": [
        "<img src=\"http://i.imgur.com/Kr5sfJ8.png\"/>"
       ],
       "metadata": {},
       "output_type": "pyout",
       "prompt_number": 4,
       "text": [
        "<IPython.core.display.Image at 0x2e8ab50>"
       ]
      }
     ],
     "prompt_number": 4
    },
    {
     "cell_type": "markdown",
     "metadata": {},
     "source": [
      "##Data Description"
     ]
    },
    {
     "cell_type": "markdown",
     "metadata": {},
     "source": [
      "European Parliament Proceedings corpus\n",
      "- https://language-detection.googlecode.com/git-history/packages/packages/europarl-test.zip\n",
      "- 21 languages, 1000 sentences each \n"
     ]
    },
    {
     "cell_type": "markdown",
     "metadata": {},
     "source": [
      "##Import data and put it in pandas dataframe"
     ]
    },
    {
     "cell_type": "code",
     "collapsed": false,
     "input": [
      "import codecs\n",
      "lines = codecs.open('europarl.txt', 'r', 'utf-8').readlines()\n",
      "lines = [l.split('\\t') for l in lines]"
     ],
     "language": "python",
     "metadata": {},
     "outputs": [],
     "prompt_number": 7
    },
    {
     "cell_type": "code",
     "collapsed": false,
     "input": [
      "df = pd.DataFrame(lines, columns=['language', 'text'])\n",
      "df.head()"
     ],
     "language": "python",
     "metadata": {},
     "outputs": [
      {
       "html": [
        "<div style=\"max-height:1000px;max-width:1500px;overflow:auto;\">\n",
        "<table border=\"1\" class=\"dataframe\">\n",
        "  <thead>\n",
        "    <tr style=\"text-align: right;\">\n",
        "      <th></th>\n",
        "      <th>language</th>\n",
        "      <th>text</th>\n",
        "    </tr>\n",
        "  </thead>\n",
        "  <tbody>\n",
        "    <tr>\n",
        "      <th>0</th>\n",
        "      <td> bg</td>\n",
        "      <td> \"\u0415\u0432\u0440\u043e\u043f\u0430 2020\" \u043d\u0435 \u0442\u0440\u044f\u0431\u0432\u0430 \u0434\u0430 \u0441\u0442\u0430\u0440\u0442\u0438\u0440\u0430 \u043d\u043e\u0432 \u043a\u043e\u043d\u043a\u0443\u0440...</td>\n",
        "    </tr>\n",
        "    <tr>\n",
        "      <th>1</th>\n",
        "      <td> bg</td>\n",
        "      <td> (CS) \u041d\u0430\u0439-\u0433\u043e\u043b\u044f\u043c\u0430\u0442\u0430 \u043d\u0435\u0441\u043f\u0440\u0430\u0432\u0435\u0434\u043b\u0438\u0432\u043e\u0441\u0442 \u043d\u0430 \u0441\u0435\u0433\u0430\u0448\u043d\u0430\u0442\u0430...</td>\n",
        "    </tr>\n",
        "    <tr>\n",
        "      <th>2</th>\n",
        "      <td> bg</td>\n",
        "      <td> (DE) \u0413-\u0436\u043e \u043f\u0440\u0435\u0434\u0441\u0435\u0434\u0430\u0442\u0435\u043b, \u0433-\u043d \u0447\u043b\u0435\u043d \u043d\u0430 \u041a\u043e\u043c\u0438\u0441\u0438\u044f\u0442\u0430, ...</td>\n",
        "    </tr>\n",
        "    <tr>\n",
        "      <th>3</th>\n",
        "      <td> bg</td>\n",
        "      <td> (DE) \u0413-\u043d \u043f\u0440\u0435\u0434\u0441\u0435\u0434\u0430\u0442\u0435\u043b, \u0431\u0438\u0445 \u0438\u0441\u043a\u0430\u043b \u0434\u0430 \u0437\u0430\u043f\u043e\u0447\u043d\u0430 \u0441 \u043a...</td>\n",
        "    </tr>\n",
        "    <tr>\n",
        "      <th>4</th>\n",
        "      <td> bg</td>\n",
        "      <td> (DE) \u0413-\u043d \u043f\u0440\u0435\u0434\u0441\u0435\u0434\u0430\u0442\u0435\u043b, \u0432\u044a\u043f\u0440\u043e\u0441\u044a\u0442 \u0437\u0430 \u043f\u0440\u0430\u0432\u0430\u0442\u0430 \u043d\u0430 \u0447...</td>\n",
        "    </tr>\n",
        "  </tbody>\n",
        "</table>\n",
        "</div>"
       ],
       "metadata": {},
       "output_type": "pyout",
       "prompt_number": 8,
       "text": [
        "  language                                               text\n",
        "0       bg  \"\u0415\u0432\u0440\u043e\u043f\u0430 2020\" \u043d\u0435 \u0442\u0440\u044f\u0431\u0432\u0430 \u0434\u0430 \u0441\u0442\u0430\u0440\u0442\u0438\u0440\u0430 \u043d\u043e\u0432 \u043a\u043e\u043d\u043a\u0443\u0440...\n",
        "1       bg  (CS) \u041d\u0430\u0439-\u0433\u043e\u043b\u044f\u043c\u0430\u0442\u0430 \u043d\u0435\u0441\u043f\u0440\u0430\u0432\u0435\u0434\u043b\u0438\u0432\u043e\u0441\u0442 \u043d\u0430 \u0441\u0435\u0433\u0430\u0448\u043d\u0430\u0442\u0430...\n",
        "2       bg  (DE) \u0413-\u0436\u043e \u043f\u0440\u0435\u0434\u0441\u0435\u0434\u0430\u0442\u0435\u043b, \u0433-\u043d \u0447\u043b\u0435\u043d \u043d\u0430 \u041a\u043e\u043c\u0438\u0441\u0438\u044f\u0442\u0430, ...\n",
        "3       bg  (DE) \u0413-\u043d \u043f\u0440\u0435\u0434\u0441\u0435\u0434\u0430\u0442\u0435\u043b, \u0431\u0438\u0445 \u0438\u0441\u043a\u0430\u043b \u0434\u0430 \u0437\u0430\u043f\u043e\u0447\u043d\u0430 \u0441 \u043a...\n",
        "4       bg  (DE) \u0413-\u043d \u043f\u0440\u0435\u0434\u0441\u0435\u0434\u0430\u0442\u0435\u043b, \u0432\u044a\u043f\u0440\u043e\u0441\u044a\u0442 \u0437\u0430 \u043f\u0440\u0430\u0432\u0430\u0442\u0430 \u043d\u0430 \u0447..."
       ]
      }
     ],
     "prompt_number": 8
    },
    {
     "cell_type": "code",
     "collapsed": false,
     "input": [
      "# how many of each language\n",
      "df.language.value_counts()"
     ],
     "language": "python",
     "metadata": {},
     "outputs": [
      {
       "metadata": {},
       "output_type": "pyout",
       "prompt_number": 9,
       "text": [
        "hu    1000\n",
        "nl    1000\n",
        "fi    1000\n",
        "ro    1000\n",
        "de    1000\n",
        "da    1000\n",
        "pt    1000\n",
        "pl    1000\n",
        "it    1000\n",
        "bg    1000\n",
        "sv    1000\n",
        "cs    1000\n",
        "sk    1000\n",
        "sl    1000\n",
        "lv    1000\n",
        "lt    1000\n",
        "el    1000\n",
        "en    1000\n",
        "et    1000\n",
        "es    1000\n",
        "fr    1000\n",
        "dtype: int64"
       ]
      }
     ],
     "prompt_number": 9
    },
    {
     "cell_type": "code",
     "collapsed": false,
     "input": [
      "# let's consider just two: english (en) and french (fr)\n",
      "df[df.language=='en'].head()"
     ],
     "language": "python",
     "metadata": {},
     "outputs": [
      {
       "html": [
        "<div style=\"max-height:1000px;max-width:1500px;overflow:auto;\">\n",
        "<table border=\"1\" class=\"dataframe\">\n",
        "  <thead>\n",
        "    <tr style=\"text-align: right;\">\n",
        "      <th></th>\n",
        "      <th>language</th>\n",
        "      <th>text</th>\n",
        "    </tr>\n",
        "  </thead>\n",
        "  <tbody>\n",
        "    <tr>\n",
        "      <th>5000</th>\n",
        "      <td> en</td>\n",
        "      <td>                   (BG) Thank you, Mr President.\\n</td>\n",
        "    </tr>\n",
        "    <tr>\n",
        "      <th>5001</th>\n",
        "      <td> en</td>\n",
        "      <td> (EL) Madam President, I agree and recognise Tu...</td>\n",
        "    </tr>\n",
        "    <tr>\n",
        "      <th>5002</th>\n",
        "      <td> en</td>\n",
        "      <td> (FI) Madam President, firstly, I would like to...</td>\n",
        "    </tr>\n",
        "    <tr>\n",
        "      <th>5003</th>\n",
        "      <td> en</td>\n",
        "      <td> (FI) Mr President, the Treaty of Lisbon will r...</td>\n",
        "    </tr>\n",
        "    <tr>\n",
        "      <th>5004</th>\n",
        "      <td> en</td>\n",
        "      <td> (FR) Madam President, one of the priorities of...</td>\n",
        "    </tr>\n",
        "  </tbody>\n",
        "</table>\n",
        "</div>"
       ],
       "metadata": {},
       "output_type": "pyout",
       "prompt_number": 10,
       "text": [
        "     language                                               text\n",
        "5000       en                    (BG) Thank you, Mr President.\\n\n",
        "5001       en  (EL) Madam President, I agree and recognise Tu...\n",
        "5002       en  (FI) Madam President, firstly, I would like to...\n",
        "5003       en  (FI) Mr President, the Treaty of Lisbon will r...\n",
        "5004       en  (FR) Madam President, one of the priorities of..."
       ]
      }
     ],
     "prompt_number": 10
    },
    {
     "cell_type": "code",
     "collapsed": false,
     "input": [
      "df_sub = df[df.language.isin(('lt', 'lv'))]"
     ],
     "language": "python",
     "metadata": {},
     "outputs": [],
     "prompt_number": 70
    },
    {
     "cell_type": "markdown",
     "metadata": {},
     "source": [
      "##Build classifier"
     ]
    },
    {
     "cell_type": "code",
     "collapsed": false,
     "input": [
      "from sklearn.feature_extraction.text import TfidfVectorizer, CountVectorizer\n",
      "from sklearn.linear_model import LogisticRegression\n",
      "from sklearn.cross_validation import train_test_split"
     ],
     "language": "python",
     "metadata": {},
     "outputs": [],
     "prompt_number": 71
    },
    {
     "cell_type": "markdown",
     "metadata": {},
     "source": [
      "###1. Engineer features we will use to predict"
     ]
    },
    {
     "cell_type": "code",
     "collapsed": false,
     "input": [
      "# vectorizer = TfidfVectorizer(ngram_range=(1,3),\n",
      "# #                              analyzer='char',\n",
      "#                              max_features=50)\n",
      "# #                             use_idf=False)\n",
      "\n",
      "vectorizer = CountVectorizer(max_features=50,\n",
      "#                              analyzer='char'\n",
      "                                )\n",
      "\n",
      "\n",
      "X_features = vectorizer.fit_transform(df_sub.text)  # fit_transform() is like calling fit() and then predict()\n",
      "print X_features.shape, type(X_features)"
     ],
     "language": "python",
     "metadata": {},
     "outputs": [
      {
       "output_type": "stream",
       "stream": "stdout",
       "text": [
        "(2000, 50) <class 'scipy.sparse.csr.csr_matrix'>\n"
       ]
      }
     ],
     "prompt_number": 81
    },
    {
     "cell_type": "markdown",
     "metadata": {},
     "source": [
      "###2. Split into train and test sets"
     ]
    },
    {
     "cell_type": "code",
     "collapsed": false,
     "input": [
      "y = df_sub.language.values\n",
      "X_train, X_test, y_train, y_test = train_test_split(X_features, y, test_size=0.2, random_state=1)  \n",
      "#setting random_state=0 to make #sure we all get the same answer"
     ],
     "language": "python",
     "metadata": {},
     "outputs": [],
     "prompt_number": 82
    },
    {
     "cell_type": "code",
     "collapsed": false,
     "input": [
      "#composition of train and test sets\n",
      "print 'Composition of train set:', np.unique(y_train, return_counts=True)\n",
      "print 'Composition of test set:', np.unique(y_test, return_counts=True)"
     ],
     "language": "python",
     "metadata": {},
     "outputs": [
      {
       "output_type": "stream",
       "stream": "stdout",
       "text": [
        "Composition of train set: (array([u'lt', u'lv'], dtype=object), array([805, 795]))\n",
        "Composition of test set: (array([u'lt', u'lv'], dtype=object), array([195, 205]))\n"
       ]
      }
     ],
     "prompt_number": 83
    },
    {
     "cell_type": "markdown",
     "metadata": {},
     "source": [
      "###3. Train model"
     ]
    },
    {
     "cell_type": "code",
     "collapsed": false,
     "input": [
      "clf = LogisticRegression()\n",
      "clf.fit(X_train, y_train)"
     ],
     "language": "python",
     "metadata": {},
     "outputs": [
      {
       "metadata": {},
       "output_type": "pyout",
       "prompt_number": 101,
       "text": [
        "LogisticRegression(C=1.0, class_weight=None, dual=False, fit_intercept=True,\n",
        "          intercept_scaling=1, penalty='l2', random_state=None, tol=0.0001)"
       ]
      },
      {
       "output_type": "stream",
       "stream": "stdout",
       "text": [
        "\n"
       ]
      }
     ],
     "prompt_number": 101
    },
    {
     "cell_type": "markdown",
     "metadata": {},
     "source": [
      "###4. Evaluate model\n",
      "\n",
      "*Test it on the held-out test set*\n",
      "\n",
      "* **accuracy**: percent correct\n",
      "\n",
      "\n",
      "* When especially interested in a particular class, say \"positive,\"\n",
      "    - **precision**: of the things you called \"positive,\" what percent were correct?\n",
      "    - **recall**: of all positive cases, what percent did you find?"
     ]
    },
    {
     "cell_type": "code",
     "collapsed": false,
     "input": [
      "y_predicted = clf.predict(X_test)"
     ],
     "language": "python",
     "metadata": {},
     "outputs": [],
     "prompt_number": 98
    },
    {
     "cell_type": "code",
     "collapsed": false,
     "input": [
      "from sklearn import metrics\n",
      "print 'Accuracy:', metrics.accuracy_score(y_test, y_predicted)\n",
      "print\n",
      "print metrics.classification_report(y_test, y_predicted)\n",
      "print\n",
      "print 'confusion matrix'\n",
      "print\n",
      "print pd.DataFrame(metrics.confusion_matrix(y_test, y_predicted))"
     ],
     "language": "python",
     "metadata": {},
     "outputs": [
      {
       "output_type": "stream",
       "stream": "stdout",
       "text": [
        "Accuracy: 0.945\n",
        "\n",
        "             precision    recall  f1-score   support\n",
        "\n",
        "         lt       0.92      0.97      0.95       195\n",
        "         lv       0.97      0.92      0.94       205\n",
        "\n",
        "avg / total       0.95      0.94      0.94       400\n",
        "\n",
        "\n",
        "confusion matrix\n",
        "\n",
        "     0    1\n",
        "0  190    5\n",
        "1   17  188\n"
       ]
      }
     ],
     "prompt_number": 85
    },
    {
     "cell_type": "markdown",
     "metadata": {},
     "source": [
      "###Out of curiousity, how well did we do on the training set?"
     ]
    },
    {
     "cell_type": "code",
     "collapsed": false,
     "input": [
      "print 'Accuracy:', metrics.accuracy_score(y_train, clf.predict(X_train))"
     ],
     "language": "python",
     "metadata": {},
     "outputs": [
      {
       "output_type": "stream",
       "stream": "stdout",
       "text": [
        "Accuracy: 0.96125\n"
       ]
      }
     ],
     "prompt_number": 102
    },
    {
     "cell_type": "markdown",
     "metadata": {},
     "source": [
      "##ROC curve\n",
      "\n",
      "x-axis: What percent of negative things did you falsely call positive?\n",
      "\n",
      "y-axis: Of the positive examples, what percent did you find?"
     ]
    },
    {
     "cell_type": "code",
     "collapsed": false,
     "input": [
      "from sklearn.metrics import roc_curve, roc_auc_score\n",
      "\n",
      "y_label_test = np.asarray(y_test == 'lv', dtype=int)\n",
      "proba = est.predict_proba(X_test)\n",
      "proba_label = proba[:,1]\n",
      "fpr, tpr, roc_thresholds = roc_curve(y_label_test, proba_label)\n",
      "\n",
      "plt.plot(fpr, tpr, '-', linewidth=5)\n",
      "plt.plot([0, 1], [0, 1], 'k--')\n",
      "plt.xlabel('False Positive Rate (\"Cost\")')\n",
      "plt.ylabel('True Positive Rate (\"Benefit\")')\n",
      "plt.title('Receiver operating characteristic example')\n",
      "plt.legend(loc=\"lower right\")   \n",
      "    "
     ],
     "language": "python",
     "metadata": {},
     "outputs": [
      {
       "metadata": {},
       "output_type": "display_data",
       "png": "[encoded data removed]",
       "text": [
        "<matplotlib.figure.Figure at 0x8064370>"
       ]
      }
     ],
     "prompt_number": 99
    },
    {
     "cell_type": "markdown",
     "metadata": {},
     "source": [
      "#Examine the coefficients"
     ]
    },
    {
     "cell_type": "code",
     "collapsed": false,
     "input": [
      "pd.DataFrame(zip(vectorizer.get_feature_names(), np.exp(est.coef_[0]))).sort(1)"
     ],
     "language": "python",
     "metadata": {},
     "outputs": [
      {
       "html": [
        "<div style=\"max-height:1000px;max-width:1500px;overflow:auto;\">\n",
        "<table border=\"1\" class=\"dataframe\">\n",
        "  <thead>\n",
        "    <tr style=\"text-align: right;\">\n",
        "      <th></th>\n",
        "      <th>0</th>\n",
        "      <th>1</th>\n",
        "    </tr>\n",
        "  </thead>\n",
        "  <tbody>\n",
        "    <tr>\n",
        "      <th>47</th>\n",
        "      <td>        yra</td>\n",
        "      <td>  0.126051</td>\n",
        "    </tr>\n",
        "    <tr>\n",
        "      <th>36</th>\n",
        "      <td>         su</td>\n",
        "      <td>  0.145894</td>\n",
        "    </tr>\n",
        "    <tr>\n",
        "      <th>7 </th>\n",
        "      <td>        d\u0117l</td>\n",
        "      <td>  0.153961</td>\n",
        "    </tr>\n",
        "    <tr>\n",
        "      <th>37</th>\n",
        "      <td>        tai</td>\n",
        "      <td>  0.154843</td>\n",
        "    </tr>\n",
        "    <tr>\n",
        "      <th>10</th>\n",
        "      <td>    europos</td>\n",
        "      <td>  0.161609</td>\n",
        "    </tr>\n",
        "    <tr>\n",
        "      <th>24</th>\n",
        "      <td>        mes</td>\n",
        "      <td>  0.192872</td>\n",
        "    </tr>\n",
        "    <tr>\n",
        "      <th>16</th>\n",
        "      <td>        kad</td>\n",
        "      <td>  0.200703</td>\n",
        "    </tr>\n",
        "    <tr>\n",
        "      <th>17</th>\n",
        "      <td>       kaip</td>\n",
        "      <td>  0.208438</td>\n",
        "    </tr>\n",
        "    <tr>\n",
        "      <th>4 </th>\n",
        "      <td>       buvo</td>\n",
        "      <td>  0.237114</td>\n",
        "    </tr>\n",
        "    <tr>\n",
        "      <th>12</th>\n",
        "      <td>         i\u0161</td>\n",
        "      <td>  0.253726</td>\n",
        "    </tr>\n",
        "    <tr>\n",
        "      <th>35</th>\n",
        "      <td>       savo</td>\n",
        "      <td>  0.254646</td>\n",
        "    </tr>\n",
        "    <tr>\n",
        "      <th>38</th>\n",
        "      <td>       taip</td>\n",
        "      <td>  0.259890</td>\n",
        "    </tr>\n",
        "    <tr>\n",
        "      <th>34</th>\n",
        "      <td> pirmininke</td>\n",
        "      <td>  0.263030</td>\n",
        "    </tr>\n",
        "    <tr>\n",
        "      <th>5 </th>\n",
        "      <td>       b\u016bti</td>\n",
        "      <td>  0.284848</td>\n",
        "    </tr>\n",
        "    <tr>\n",
        "      <th>28</th>\n",
        "      <td>       m\u016bs\u0173</td>\n",
        "      <td>  0.297363</td>\n",
        "    </tr>\n",
        "    <tr>\n",
        "      <th>0 </th>\n",
        "      <td>       apie</td>\n",
        "      <td>  0.307787</td>\n",
        "    </tr>\n",
        "    <tr>\n",
        "      <th>42</th>\n",
        "      <td>       turi</td>\n",
        "      <td>  0.381956</td>\n",
        "    </tr>\n",
        "    <tr>\n",
        "      <th>40</th>\n",
        "      <td>        tik</td>\n",
        "      <td>  0.394189</td>\n",
        "    </tr>\n",
        "    <tr>\n",
        "      <th>6 </th>\n",
        "      <td>       b\u016bt\u0173</td>\n",
        "      <td>  0.432735</td>\n",
        "    </tr>\n",
        "    <tr>\n",
        "      <th>20</th>\n",
        "      <td>   komisija</td>\n",
        "      <td>  0.526675</td>\n",
        "    </tr>\n",
        "    <tr>\n",
        "      <th>33</th>\n",
        "      <td>        pat</td>\n",
        "      <td>  0.588432</td>\n",
        "    </tr>\n",
        "    <tr>\n",
        "      <th>3 </th>\n",
        "      <td>        bet</td>\n",
        "      <td>  0.859003</td>\n",
        "    </tr>\n",
        "    <tr>\n",
        "      <th>11</th>\n",
        "      <td>         ir</td>\n",
        "      <td>  0.954821</td>\n",
        "    </tr>\n",
        "    <tr>\n",
        "      <th>41</th>\n",
        "      <td>         to</td>\n",
        "      <td>  1.061239</td>\n",
        "    </tr>\n",
        "    <tr>\n",
        "      <th>30</th>\n",
        "      <td>         ne</td>\n",
        "      <td>  1.062005</td>\n",
        "    </tr>\n",
        "    <tr>\n",
        "      <th>14</th>\n",
        "      <td>         jo</td>\n",
        "      <td>  1.525974</td>\n",
        "    </tr>\n",
        "    <tr>\n",
        "      <th>1 </th>\n",
        "      <td>         ar</td>\n",
        "      <td>  1.591012</td>\n",
        "    </tr>\n",
        "    <tr>\n",
        "      <th>19</th>\n",
        "      <td>         ko</td>\n",
        "      <td>  2.157942</td>\n",
        "    </tr>\n",
        "    <tr>\n",
        "      <th>13</th>\n",
        "      <td>         ja</td>\n",
        "      <td>  2.420222</td>\n",
        "    </tr>\n",
        "    <tr>\n",
        "      <th>18</th>\n",
        "      <td>        kas</td>\n",
        "      <td>  2.568358</td>\n",
        "    </tr>\n",
        "    <tr>\n",
        "      <th>25</th>\n",
        "      <td>       mums</td>\n",
        "      <td>  2.623253</td>\n",
        "    </tr>\n",
        "    <tr>\n",
        "      <th>48</th>\n",
        "      <td>       \u013coti</td>\n",
        "      <td>  3.294740</td>\n",
        "    </tr>\n",
        "    <tr>\n",
        "      <th>46</th>\n",
        "      <td>        vai</td>\n",
        "      <td>  3.381308</td>\n",
        "    </tr>\n",
        "    <tr>\n",
        "      <th>29</th>\n",
        "      <td>        nav</td>\n",
        "      <td>  3.509438</td>\n",
        "    </tr>\n",
        "    <tr>\n",
        "      <th>27</th>\n",
        "      <td>       m\u016bsu</td>\n",
        "      <td>  3.567775</td>\n",
        "    </tr>\n",
        "    <tr>\n",
        "      <th>49</th>\n",
        "      <td>         \u0161o</td>\n",
        "      <td>  4.286466</td>\n",
        "    </tr>\n",
        "    <tr>\n",
        "      <th>9 </th>\n",
        "      <td>         es</td>\n",
        "      <td>  4.310928</td>\n",
        "    </tr>\n",
        "    <tr>\n",
        "      <th>2 </th>\n",
        "      <td>        ar\u012b</td>\n",
        "      <td>  4.454182</td>\n",
        "    </tr>\n",
        "    <tr>\n",
        "      <th>23</th>\n",
        "      <td>        lai</td>\n",
        "      <td>  4.963951</td>\n",
        "    </tr>\n",
        "    <tr>\n",
        "      <th>22</th>\n",
        "      <td>         k\u0101</td>\n",
        "      <td>  5.043317</td>\n",
        "    </tr>\n",
        "    <tr>\n",
        "      <th>39</th>\n",
        "      <td>        tas</td>\n",
        "      <td>  5.045899</td>\n",
        "    </tr>\n",
        "    <tr>\n",
        "      <th>43</th>\n",
        "      <td>         t\u0101</td>\n",
        "      <td>  5.231538</td>\n",
        "    </tr>\n",
        "    <tr>\n",
        "      <th>21</th>\n",
        "      <td>      kungs</td>\n",
        "      <td>  6.238261</td>\n",
        "    </tr>\n",
        "    <tr>\n",
        "      <th>31</th>\n",
        "      <td>         no</td>\n",
        "      <td>  6.526362</td>\n",
        "    </tr>\n",
        "    <tr>\n",
        "      <th>45</th>\n",
        "      <td>         uz</td>\n",
        "      <td>  7.663174</td>\n",
        "    </tr>\n",
        "    <tr>\n",
        "      <th>8 </th>\n",
        "      <td>    eiropas</td>\n",
        "      <td>  9.190244</td>\n",
        "    </tr>\n",
        "    <tr>\n",
        "      <th>26</th>\n",
        "      <td>        m\u0113s</td>\n",
        "      <td>  9.544766</td>\n",
        "    </tr>\n",
        "    <tr>\n",
        "      <th>15</th>\n",
        "      <td>         ka</td>\n",
        "      <td> 10.245294</td>\n",
        "    </tr>\n",
        "    <tr>\n",
        "      <th>32</th>\n",
        "      <td>        par</td>\n",
        "      <td> 14.371290</td>\n",
        "    </tr>\n",
        "    <tr>\n",
        "      <th>44</th>\n",
        "      <td>         un</td>\n",
        "      <td> 17.439465</td>\n",
        "    </tr>\n",
        "  </tbody>\n",
        "</table>\n",
        "</div>"
       ],
       "metadata": {},
       "output_type": "pyout",
       "prompt_number": 87,
       "text": [
        "             0          1\n",
        "47         yra   0.126051\n",
        "36          su   0.145894\n",
        "7          d\u0117l   0.153961\n",
        "37         tai   0.154843\n",
        "10     europos   0.161609\n",
        "24         mes   0.192872\n",
        "16         kad   0.200703\n",
        "17        kaip   0.208438\n",
        "4         buvo   0.237114\n",
        "12          i\u0161   0.253726\n",
        "35        savo   0.254646\n",
        "38        taip   0.259890\n",
        "34  pirmininke   0.263030\n",
        "5         b\u016bti   0.284848\n",
        "28        m\u016bs\u0173   0.297363\n",
        "0         apie   0.307787\n",
        "42        turi   0.381956\n",
        "40         tik   0.394189\n",
        "6         b\u016bt\u0173   0.432735\n",
        "20    komisija   0.526675\n",
        "33         pat   0.588432\n",
        "3          bet   0.859003\n",
        "11          ir   0.954821\n",
        "41          to   1.061239\n",
        "30          ne   1.062005\n",
        "14          jo   1.525974\n",
        "1           ar   1.591012\n",
        "19          ko   2.157942\n",
        "13          ja   2.420222\n",
        "18         kas   2.568358\n",
        "25        mums   2.623253\n",
        "48        \u013coti   3.294740\n",
        "46         vai   3.381308\n",
        "29         nav   3.509438\n",
        "27        m\u016bsu   3.567775\n",
        "49          \u0161o   4.286466\n",
        "9           es   4.310928\n",
        "2          ar\u012b   4.454182\n",
        "23         lai   4.963951\n",
        "22          k\u0101   5.043317\n",
        "39         tas   5.045899\n",
        "43          t\u0101   5.231538\n",
        "21       kungs   6.238261\n",
        "31          no   6.526362\n",
        "45          uz   7.663174\n",
        "8      eiropas   9.190244\n",
        "26         m\u0113s   9.544766\n",
        "15          ka  10.245294\n",
        "32         par  14.371290\n",
        "44          un  17.439465"
       ]
      }
     ],
     "prompt_number": 87
    },
    {
     "cell_type": "markdown",
     "metadata": {},
     "source": [
      "#Exercise\n",
      "\n",
      "##Create a classifier for *all* 21 languages\n",
      "i.e. Given a sentence, output its most probable language\n",
      "\n",
      "**hint**: Create 21 classifiers which classify *langauge x* vs. *all other languages* and choose langauge with highest probability"
     ]
    }
   ],
   "metadata": {}
  }
 ]
}